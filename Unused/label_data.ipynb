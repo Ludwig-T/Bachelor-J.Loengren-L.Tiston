{
 "cells": [
  {
   "cell_type": "code",
   "execution_count": 1,
   "metadata": {},
   "outputs": [],
   "source": [
    "import pandas as pd\n",
    "import os\n",
    "import numpy as np\n",
    "from data_handling import get_data, gen_timeseries\n",
    "from get_amp import get_amp\n",
    "from get_wavelenght import get_wavelenght"
   ]
  },
  {
   "cell_type": "code",
   "execution_count": 6,
   "metadata": {},
   "outputs": [],
   "source": [
    "filepath_pred = 'C:/Data/predictions/predictions_2020_05.csv'\n",
    "df = pd.read_csv(filepath_pred)\n",
    "\n",
    "folderpath_data = f'//NAS24/solo/remote/data/L2/tds_wf_e/{filepath_pred[-11:-7]}/{filepath_pred[-6:-4]}'"
   ]
  },
  {
   "attachments": {},
   "cell_type": "markdown",
   "metadata": {},
   "source": [
    "If it is certain enough it is dust, investigate amplitude."
   ]
  },
  {
   "cell_type": "code",
   "execution_count": 7,
   "metadata": {},
   "outputs": [
    {
     "ename": "PermissionError",
     "evalue": "[WinError 5] Åtkomst nekad: '\\\\\\\\NAS24\\\\solo\\\\remote\\\\data\\\\L2\\\\tds_wf_e\\\\2020\\\\05\\\\solo_L2_rpw-tds-surv-tswf-e-cdag_20200501_V13.cdf'",
     "output_type": "error",
     "traceback": [
      "\u001b[1;31m---------------------------------------------------------------------------\u001b[0m",
      "\u001b[1;31mPermissionError\u001b[0m                           Traceback (most recent call last)",
      "Cell \u001b[1;32mIn[7], line 7\u001b[0m\n\u001b[0;32m      5\u001b[0m \u001b[39mfor\u001b[39;00m file \u001b[39min\u001b[39;00m df\u001b[39m.\u001b[39mcolumns:\n\u001b[0;32m      6\u001b[0m   filepath \u001b[39m=\u001b[39m os\u001b[39m.\u001b[39mpath\u001b[39m.\u001b[39mjoin(folderpath_data, file)\n\u001b[1;32m----> 7\u001b[0m   WAVEFORM, SAMPLING_RATE, EPOCHS \u001b[39m=\u001b[39m get_data(filepath, to_extract\u001b[39m=\u001b[39;49m\u001b[39m'\u001b[39;49m\u001b[39mWAVEFORM_DATA_VOLTAGE\u001b[39;49m\u001b[39m'\u001b[39;49m, want_DOWNLINK_INFO\u001b[39m=\u001b[39;49m\u001b[39mFalse\u001b[39;49;00m)\n\u001b[0;32m      8\u001b[0m   \u001b[39mfor\u001b[39;00m EPOCH, prediction \u001b[39min\u001b[39;00m \u001b[39menumerate\u001b[39m(df[file]):\n\u001b[0;32m      9\u001b[0m     \u001b[39mif\u001b[39;00m prediction \u001b[39m>\u001b[39m threshold:\n",
      "File \u001b[1;32mc:\\Githubs\\kandidat\\data_handling.py:24\u001b[0m, in \u001b[0;36mget_data\u001b[1;34m(filepath, to_extract, want_DOWNLINK_INFO)\u001b[0m\n\u001b[0;32m     22\u001b[0m \u001b[39mdef\u001b[39;00m \u001b[39mget_data\u001b[39m(filepath, to_extract\u001b[39m=\u001b[39m\u001b[39m\"\u001b[39m\u001b[39mWAVEFORM_DATA\u001b[39m\u001b[39m\"\u001b[39m, want_DOWNLINK_INFO\u001b[39m=\u001b[39m\u001b[39mTrue\u001b[39;00m):\n\u001b[0;32m     23\u001b[0m \u001b[39m    \u001b[39m\u001b[39m'''Extracts waveform data, sampling rate and (if wanted) downlink info from cdf file'''\u001b[39;00m\n\u001b[1;32m---> 24\u001b[0m     c \u001b[39m=\u001b[39m cdflib\u001b[39m.\u001b[39;49mcdfread\u001b[39m.\u001b[39;49mCDF(filepath)\n\u001b[0;32m     25\u001b[0m     WAVEFORM \u001b[39m=\u001b[39m c[to_extract]\n\u001b[0;32m     26\u001b[0m     SAMPLING_RATE \u001b[39m=\u001b[39m c[\u001b[39m'\u001b[39m\u001b[39mSAMPLING_RATE\u001b[39m\u001b[39m'\u001b[39m]\n",
      "File \u001b[1;32mc:\\Users\\ludwi\\anaconda3\\envs\\tf\\lib\\site-packages\\cdflib\\cdfread.py:96\u001b[0m, in \u001b[0;36mCDF.__init__\u001b[1;34m(self, path, validate, string_encoding, s3_read_method)\u001b[0m\n\u001b[0;32m     94\u001b[0m \u001b[39mself\u001b[39m\u001b[39m.\u001b[39mftype \u001b[39m=\u001b[39m \u001b[39m'\u001b[39m\u001b[39mfile\u001b[39m\u001b[39m'\u001b[39m\n\u001b[0;32m     95\u001b[0m path \u001b[39m=\u001b[39m Path(path)\u001b[39m.\u001b[39mresolve()\u001b[39m.\u001b[39mexpanduser()\n\u001b[1;32m---> 96\u001b[0m \u001b[39mif\u001b[39;00m \u001b[39mnot\u001b[39;00m path\u001b[39m.\u001b[39;49mis_file():\n\u001b[0;32m     97\u001b[0m     path \u001b[39m=\u001b[39m path\u001b[39m.\u001b[39mwith_suffix(\u001b[39m'\u001b[39m\u001b[39m.cdf\u001b[39m\u001b[39m'\u001b[39m)\n\u001b[0;32m     98\u001b[0m     \u001b[39mif\u001b[39;00m \u001b[39mnot\u001b[39;00m path\u001b[39m.\u001b[39mis_file():\n",
      "File \u001b[1;32mc:\\Users\\ludwi\\anaconda3\\envs\\tf\\lib\\pathlib.py:1322\u001b[0m, in \u001b[0;36mPath.is_file\u001b[1;34m(self)\u001b[0m\n\u001b[0;32m   1317\u001b[0m \u001b[39m\u001b[39m\u001b[39m\"\"\"\u001b[39;00m\n\u001b[0;32m   1318\u001b[0m \u001b[39mWhether this path is a regular file (also True for symlinks pointing\u001b[39;00m\n\u001b[0;32m   1319\u001b[0m \u001b[39mto regular files).\u001b[39;00m\n\u001b[0;32m   1320\u001b[0m \u001b[39m\"\"\"\u001b[39;00m\n\u001b[0;32m   1321\u001b[0m \u001b[39mtry\u001b[39;00m:\n\u001b[1;32m-> 1322\u001b[0m     \u001b[39mreturn\u001b[39;00m S_ISREG(\u001b[39mself\u001b[39;49m\u001b[39m.\u001b[39;49mstat()\u001b[39m.\u001b[39mst_mode)\n\u001b[0;32m   1323\u001b[0m \u001b[39mexcept\u001b[39;00m \u001b[39mOSError\u001b[39;00m \u001b[39mas\u001b[39;00m e:\n\u001b[0;32m   1324\u001b[0m     \u001b[39mif\u001b[39;00m \u001b[39mnot\u001b[39;00m _ignore_error(e):\n",
      "File \u001b[1;32mc:\\Users\\ludwi\\anaconda3\\envs\\tf\\lib\\pathlib.py:1097\u001b[0m, in \u001b[0;36mPath.stat\u001b[1;34m(self, follow_symlinks)\u001b[0m\n\u001b[0;32m   1092\u001b[0m \u001b[39mdef\u001b[39;00m \u001b[39mstat\u001b[39m(\u001b[39mself\u001b[39m, \u001b[39m*\u001b[39m, follow_symlinks\u001b[39m=\u001b[39m\u001b[39mTrue\u001b[39;00m):\n\u001b[0;32m   1093\u001b[0m \u001b[39m    \u001b[39m\u001b[39m\"\"\"\u001b[39;00m\n\u001b[0;32m   1094\u001b[0m \u001b[39m    Return the result of the stat() system call on this path, like\u001b[39;00m\n\u001b[0;32m   1095\u001b[0m \u001b[39m    os.stat() does.\u001b[39;00m\n\u001b[0;32m   1096\u001b[0m \u001b[39m    \"\"\"\u001b[39;00m\n\u001b[1;32m-> 1097\u001b[0m     \u001b[39mreturn\u001b[39;00m \u001b[39mself\u001b[39;49m\u001b[39m.\u001b[39;49m_accessor\u001b[39m.\u001b[39;49mstat(\u001b[39mself\u001b[39;49m, follow_symlinks\u001b[39m=\u001b[39;49mfollow_symlinks)\n",
      "\u001b[1;31mPermissionError\u001b[0m: [WinError 5] Åtkomst nekad: '\\\\\\\\NAS24\\\\solo\\\\remote\\\\data\\\\L2\\\\tds_wf_e\\\\2020\\\\05\\\\solo_L2_rpw-tds-surv-tswf-e-cdag_20200501_V13.cdf'"
     ]
    }
   ],
   "source": [
    "threshold = 0.95\n",
    "epochs_info = []\n",
    "dic = {}\n",
    "\n",
    "for file in df.columns:\n",
    "  filepath = os.path.join(folderpath_data, file)\n",
    "  WAVEFORM, SAMPLING_RATE, EPOCHS = get_data(filepath, to_extract='WAVEFORM_DATA_VOLTAGE', want_DOWNLINK_INFO=False)\n",
    "  for EPOCH, prediction in enumerate(df[file]):\n",
    "    if prediction > threshold:\n",
    "      X, Y = gen_timeseries(WAVEFORM, SAMPLING_RATE, EPOCH)\n",
    "      amplitude = get_amp(X, Y, to_plot=True)\n",
    "      amplitude = [abs(Mx - mn) for mn, Mx in amplitude]\n",
    "      wavelenght = get_wavelenght(X, Y, to_plot=True, thresh_above=0.05, thresh_below=0.01)\n",
    "      epochs_info.append([EPOCH, prediction, amplitude, wavelenght])\n",
    "      \n",
    "  dic[file] = epochs_info\n",
    "  \n",
    "       \n",
    "       "
   ]
  },
  {
   "cell_type": "code",
   "execution_count": null,
   "metadata": {},
   "outputs": [
    {
     "data": {
      "text/plain": [
       "array([6, 5, 4, 3, 2, 1])"
      ]
     },
     "execution_count": 7,
     "metadata": {},
     "output_type": "execute_result"
    }
   ],
   "source": [
    "np.flip([1, 2, 3, 4, 5, 6])"
   ]
  }
 ],
 "metadata": {
  "kernelspec": {
   "display_name": "tf",
   "language": "python",
   "name": "python3"
  },
  "language_info": {
   "codemirror_mode": {
    "name": "ipython",
    "version": 3
   },
   "file_extension": ".py",
   "mimetype": "text/x-python",
   "name": "python",
   "nbconvert_exporter": "python",
   "pygments_lexer": "ipython3",
   "version": "3.10.10"
  },
  "orig_nbformat": 4
 },
 "nbformat": 4,
 "nbformat_minor": 2
}
