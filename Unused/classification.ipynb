{
 "cells": [
  {
   "cell_type": "code",
   "execution_count": 7,
   "metadata": {},
   "outputs": [],
   "source": [
    "import os\n",
    "import numpy as np\n",
    "import tensorflow as tf\n",
    "from data_handling import get_data, gen_timeseries\n",
    "from pre_processing import process_data"
   ]
  },
  {
   "cell_type": "code",
   "execution_count": 12,
   "metadata": {},
   "outputs": [],
   "source": [
    "#Read Data\n",
    "FILE_PATH = \"C:/Data/High Freq/\"\n",
    "model_FILE_PATH = \"C:\\Data\\model\\model_run_GitHub\"\n",
    "model = tf.keras.models.load_model(model_FILE_PATH)"
   ]
  },
  {
   "cell_type": "code",
   "execution_count": 1,
   "metadata": {},
   "outputs": [
    {
     "ename": "NameError",
     "evalue": "name 'os' is not defined",
     "output_type": "error",
     "traceback": [
      "\u001b[1;31m---------------------------------------------------------------------------\u001b[0m",
      "\u001b[1;31mNameError\u001b[0m                                 Traceback (most recent call last)",
      "Cell \u001b[1;32mIn[1], line 2\u001b[0m\n\u001b[0;32m      1\u001b[0m FLAGGED_EPOCHS \u001b[39m=\u001b[39m {}\n\u001b[1;32m----> 2\u001b[0m \u001b[39mfor\u001b[39;00m root, dirs, files \u001b[39min\u001b[39;00m os\u001b[39m.\u001b[39mwalk(FILE_PATH):    \u001b[39m#iterate folders\u001b[39;00m\n\u001b[0;32m      3\u001b[0m     \u001b[39mfor\u001b[39;00m file \u001b[39min\u001b[39;00m files:                          \u001b[39m#iterate files in folders\u001b[39;00m\n\u001b[0;32m      4\u001b[0m         \u001b[39mif\u001b[39;00m \u001b[39m'\u001b[39m\u001b[39mtswf\u001b[39m\u001b[39m'\u001b[39m \u001b[39min\u001b[39;00m file:                      \u001b[39m#only use tswf-data\u001b[39;00m\n",
      "\u001b[1;31mNameError\u001b[0m: name 'os' is not defined"
     ]
    }
   ],
   "source": [
    "\n",
    "FLAGGED_EPOCHS = {}\n",
    "for root, dirs, files in os.walk(FILE_PATH):    #iterate folders\n",
    "    for file in files:                          #iterate files in folders\n",
    "        if 'tswf' in file:                      #only use tswf-data\n",
    "            filepath = os.path.join(root, file)\n",
    "            print(filepath)\n",
    "            WAVEFORM, SAMPLING_RATE, EPOCHS = get_data(filepath, want_DOWNLINK_INFO=False)\n",
    "            flags = []\n",
    "            for EPOCH in EPOCHS:\n",
    "                times, data = gen_timeseries(WAVEFORM, SAMPLING_RATE, EPOCH)\n",
    "                times_processed, DATA_processed = process_data(times, data, compression=4)\n",
    "                DATA_processed = np.array(DATA_processed).transpose()\n",
    "                DATA_processed = np.reshape(DATA_processed, (-1, 4096, 3))\n",
    "                flags.append(model.predict(DATA_processed))\n",
    "            FLAGGED_EPOCHS[file] = flags\n",
    "                \n",
    "                \n",
    "                "
   ]
  }
 ],
 "metadata": {
  "kernelspec": {
   "display_name": "Bachelor",
   "language": "python",
   "name": "python3"
  },
  "language_info": {
   "codemirror_mode": {
    "name": "ipython",
    "version": 3
   },
   "file_extension": ".py",
   "mimetype": "text/x-python",
   "name": "python",
   "nbconvert_exporter": "python",
   "pygments_lexer": "ipython3",
   "version": "3.10.10"
  },
  "orig_nbformat": 4
 },
 "nbformat": 4,
 "nbformat_minor": 2
}
